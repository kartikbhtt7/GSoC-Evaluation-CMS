{
 "cells": [
  {
   "cell_type": "code",
   "execution_count": 3,
   "metadata": {},
   "outputs": [],
   "source": [
    "from models import resnet15v2\n",
    "from train import get_dataloaders, evaluate\n",
    "import torch\n",
    "import torch.nn as nn\n",
    "from torchsummary import summary"
   ]
  },
  {
   "cell_type": "code",
   "execution_count": 4,
   "metadata": {},
   "outputs": [
    {
     "name": "stdout",
     "output_type": "stream",
     "text": [
      "True\n",
      "1\n"
     ]
    }
   ],
   "source": [
    "print(torch.cuda.is_available())\n",
    "print(torch.cuda.device_count())"
   ]
  },
  {
   "cell_type": "code",
   "execution_count": 5,
   "metadata": {},
   "outputs": [
    {
     "name": "stdout",
     "output_type": "stream",
     "text": [
      "cuda:0\n"
     ]
    }
   ],
   "source": [
    "device = torch.device(\"cuda:0\" if torch.cuda.is_available() else \"cpu\")\n",
    "print(device)"
   ]
  },
  {
   "cell_type": "markdown",
   "metadata": {},
   "source": [
    "# Adam Optimizer with 50 Epochs"
   ]
  },
  {
   "cell_type": "code",
   "execution_count": 6,
   "metadata": {},
   "outputs": [],
   "source": [
    "# Load the model\n",
    "model = resnet15v2()\n",
    "model.load_state_dict(torch.load('expt_50_adam/best.pth', map_location=device))\n",
    "model = model.to(device)"
   ]
  },
  {
   "cell_type": "markdown",
   "metadata": {},
   "source": [
    "### Model Architecture"
   ]
  },
  {
   "cell_type": "code",
   "execution_count": 7,
   "metadata": {},
   "outputs": [
    {
     "name": "stdout",
     "output_type": "stream",
     "text": [
      "----------------------------------------------------------------\n",
      "        Layer (type)               Output Shape         Param #\n",
      "================================================================\n",
      "            Conv2d-1           [-1, 64, 32, 32]           1,152\n",
      "       BatchNorm2d-2           [-1, 64, 32, 32]             128\n",
      "              ReLU-3           [-1, 64, 32, 32]               0\n",
      "            Conv2d-4           [-1, 64, 32, 32]          36,864\n",
      "       BatchNorm2d-5           [-1, 64, 32, 32]             128\n",
      "              ReLU-6           [-1, 64, 32, 32]               0\n",
      "          Identity-7           [-1, 64, 32, 32]               0\n",
      "            Conv2d-8           [-1, 64, 32, 32]          36,864\n",
      "       BatchNorm2d-9           [-1, 64, 32, 32]             128\n",
      "             ReLU-10           [-1, 64, 32, 32]               0\n",
      "           Conv2d-11           [-1, 64, 32, 32]          36,864\n",
      "      BatchNorm2d-12           [-1, 64, 32, 32]             128\n",
      "             ReLU-13           [-1, 64, 32, 32]               0\n",
      "       BasicBlock-14           [-1, 64, 32, 32]               0\n",
      "           Conv2d-15           [-1, 64, 32, 32]          36,864\n",
      "      BatchNorm2d-16           [-1, 64, 32, 32]             128\n",
      "             ReLU-17           [-1, 64, 32, 32]               0\n",
      "           Conv2d-18           [-1, 64, 32, 32]          36,864\n",
      "      BatchNorm2d-19           [-1, 64, 32, 32]             128\n",
      "             ReLU-20           [-1, 64, 32, 32]               0\n",
      "       BasicBlock-21           [-1, 64, 32, 32]               0\n",
      "           Conv2d-22          [-1, 128, 16, 16]          73,728\n",
      "      BatchNorm2d-23          [-1, 128, 16, 16]             256\n",
      "             ReLU-24          [-1, 128, 16, 16]               0\n",
      "           Conv2d-25          [-1, 128, 16, 16]         147,456\n",
      "      BatchNorm2d-26          [-1, 128, 16, 16]             256\n",
      "           Conv2d-27          [-1, 128, 16, 16]           8,192\n",
      "      BatchNorm2d-28          [-1, 128, 16, 16]             256\n",
      "             ReLU-29          [-1, 128, 16, 16]               0\n",
      "       BasicBlock-30          [-1, 128, 16, 16]               0\n",
      "           Conv2d-31          [-1, 128, 16, 16]         147,456\n",
      "      BatchNorm2d-32          [-1, 128, 16, 16]             256\n",
      "             ReLU-33          [-1, 128, 16, 16]               0\n",
      "           Conv2d-34          [-1, 128, 16, 16]         147,456\n",
      "      BatchNorm2d-35          [-1, 128, 16, 16]             256\n",
      "             ReLU-36          [-1, 128, 16, 16]               0\n",
      "       BasicBlock-37          [-1, 128, 16, 16]               0\n",
      "           Conv2d-38            [-1, 256, 8, 8]         294,912\n",
      "      BatchNorm2d-39            [-1, 256, 8, 8]             512\n",
      "             ReLU-40            [-1, 256, 8, 8]               0\n",
      "           Conv2d-41            [-1, 256, 8, 8]         589,824\n",
      "      BatchNorm2d-42            [-1, 256, 8, 8]             512\n",
      "           Conv2d-43            [-1, 256, 8, 8]          32,768\n",
      "      BatchNorm2d-44            [-1, 256, 8, 8]             512\n",
      "             ReLU-45            [-1, 256, 8, 8]               0\n",
      "       BasicBlock-46            [-1, 256, 8, 8]               0\n",
      "           Conv2d-47            [-1, 256, 8, 8]         589,824\n",
      "      BatchNorm2d-48            [-1, 256, 8, 8]             512\n",
      "             ReLU-49            [-1, 256, 8, 8]               0\n",
      "           Conv2d-50            [-1, 256, 8, 8]         589,824\n",
      "      BatchNorm2d-51            [-1, 256, 8, 8]             512\n",
      "             ReLU-52            [-1, 256, 8, 8]               0\n",
      "       BasicBlock-53            [-1, 256, 8, 8]               0\n",
      "         Identity-54            [-1, 256, 8, 8]               0\n",
      "AdaptiveAvgPool2d-55            [-1, 256, 1, 1]               0\n",
      "           Linear-56                    [-1, 2]             514\n",
      "================================================================\n",
      "Total params: 2,812,034\n",
      "Trainable params: 2,812,034\n",
      "Non-trainable params: 0\n",
      "----------------------------------------------------------------\n",
      "Input size (MB): 0.01\n",
      "Forward/backward pass size (MB): 16.63\n",
      "Params size (MB): 10.73\n",
      "Estimated Total Size (MB): 27.36\n",
      "----------------------------------------------------------------\n"
     ]
    }
   ],
   "source": [
    "summary(model, (2, 32, 32))"
   ]
  },
  {
   "cell_type": "code",
   "execution_count": 8,
   "metadata": {},
   "outputs": [],
   "source": [
    "train_loader, test_loader = get_dataloaders(batch_size=512)\n",
    "criterion = nn.BCEWithLogitsLoss()"
   ]
  },
  {
   "cell_type": "markdown",
   "metadata": {},
   "source": [
    "### Evaluation"
   ]
  },
  {
   "cell_type": "code",
   "execution_count": 9,
   "metadata": {},
   "outputs": [
    {
     "name": "stdout",
     "output_type": "stream",
     "text": [
      "Test accuracy:  50.43473895582329 %\n",
      "Test loss:  1.015372067187206\n"
     ]
    }
   ],
   "source": [
    "test_acc, test_loss = evaluate(model, criterion, test_loader, device)\n",
    "print('Test accuracy: ', test_acc*100, '%')\n",
    "print('Test loss: ', test_loss)"
   ]
  },
  {
   "cell_type": "markdown",
   "metadata": {},
   "source": [
    "# Adam Optimizer with 20 Epochs"
   ]
  },
  {
   "cell_type": "code",
   "execution_count": 10,
   "metadata": {},
   "outputs": [],
   "source": [
    "model2 = resnet15v2()\n",
    "model2.load_state_dict(torch.load('expt_20_adam/best.pth', map_location=device))\n",
    "model2 = model2.to(device)"
   ]
  },
  {
   "cell_type": "markdown",
   "metadata": {},
   "source": [
    "### Evaluation"
   ]
  },
  {
   "cell_type": "code",
   "execution_count": 11,
   "metadata": {},
   "outputs": [
    {
     "name": "stdout",
     "output_type": "stream",
     "text": [
      "Test accuracy:  75.47791164658635 %\n",
      "Test loss:  0.5066263087111783\n"
     ]
    }
   ],
   "source": [
    "test_acc2, test_loss2 = evaluate(model2, criterion, test_loader, device)\n",
    "print('Test accuracy: ', test_acc2*100, '%')\n",
    "print('Test loss: ', test_loss2)"
   ]
  },
  {
   "cell_type": "markdown",
   "metadata": {},
   "source": [
    "# AdamW optimizer with 20 Epochs"
   ]
  },
  {
   "cell_type": "code",
   "execution_count": 12,
   "metadata": {},
   "outputs": [],
   "source": [
    "model3 = resnet15v2()\n",
    "model3.load_state_dict(torch.load('expt_20_adamw/best.pth', map_location=device))\n",
    "model3 = model3.to(device)"
   ]
  },
  {
   "cell_type": "markdown",
   "metadata": {},
   "source": [
    "### Evaluation"
   ]
  },
  {
   "cell_type": "code",
   "execution_count": 13,
   "metadata": {},
   "outputs": [
    {
     "name": "stdout",
     "output_type": "stream",
     "text": [
      "Test accuracy:  74.68072289156626 %\n",
      "Test loss:  0.5188913260885032\n"
     ]
    }
   ],
   "source": [
    "test_acc3, test_loss3 = evaluate(model3, criterion, test_loader, device)\n",
    "print('Test accuracy: ', test_acc3*100, '%')\n",
    "print('Test loss: ', test_loss3)"
   ]
  },
  {
   "cell_type": "markdown",
   "metadata": {},
   "source": [
    "## Plot"
   ]
  },
  {
   "cell_type": "code",
   "execution_count": 14,
   "metadata": {},
   "outputs": [],
   "source": [
    "import matplotlib.pyplot as plt"
   ]
  },
  {
   "cell_type": "code",
   "execution_count": 15,
   "metadata": {},
   "outputs": [],
   "source": [
    "test_accs = [test_acc * 100, test_acc2 * 100, test_acc3 * 100]\n",
    "test_losses = [test_loss, test_loss2, test_loss3]\n",
    "model_names = ['expt_50_adam', 'expt_20_adam', 'expt_20_adamw']"
   ]
  },
  {
   "cell_type": "code",
   "execution_count": 16,
   "metadata": {},
   "outputs": [
    {
     "data": {
      "image/png": "[encoded data removed]",
      "text/plain": [
       "<Figure size 800x600 with 2 Axes>"
      ]
     },
     "metadata": {},
     "output_type": "display_data"
    }
   ],
   "source": [
    "fig, ax1 = plt.subplots(figsize=(8,6))\n",
    "\n",
    "color_acc = 'tab:blue'\n",
    "ax1.set_xlabel('Model')\n",
    "ax1.set_ylabel('Test Accuracy (%)', color=color_acc)\n",
    "bars = ax1.bar(model_names, test_accs, color=color_acc, alpha=0.6)\n",
    "ax1.tick_params(axis='y', labelcolor=color_acc)\n",
    "ax1.set_ylim(0, 100)\n",
    "\n",
    "for bar in bars:\n",
    "    height = bar.get_height()\n",
    "    ax1.annotate(f'{height:.1f}%',\n",
    "                 xy=(bar.get_x() + bar.get_width() / 2, height),\n",
    "                 xytext=(0, 3),\n",
    "                 textcoords=\"offset points\",\n",
    "                 ha='center', va='bottom')\n",
    "    \n",
    "ax2 = ax1.twinx()\n",
    "color_loss = 'tab:red'\n",
    "ax2.set_ylabel('Test Loss', color=color_loss)\n",
    "ax2.plot(model_names, test_losses, color=color_loss, marker='o', linestyle='--', linewidth=2)\n",
    "ax2.tick_params(axis='y', labelcolor=color_loss)\n",
    "\n",
    "plt.title('Comparison of Test Accuracy and Loss for Three Models')\n",
    "plt.show()"
   ]
  }
 ],
 "metadata": {
  "kernelspec": {
   "display_name": ".venv",
   "language": "python",
   "name": "python3"
  },
  "language_info": {
   "codemirror_mode": {
    "name": "ipython",
    "version": 3
   },
   "file_extension": ".py",
   "mimetype": "text/x-python",
   "name": "python",
   "nbconvert_exporter": "python",
   "pygments_lexer": "ipython3",
   "version": "3.10.10"
  }
 },
 "nbformat": 4,
 "nbformat_minor": 2
}
